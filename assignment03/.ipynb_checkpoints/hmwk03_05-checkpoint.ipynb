{
 "cells": [
  {
   "cell_type": "code",
   "execution_count": 84,
   "id": "abbce3cc-838c-4b27-b355-7434899e8708",
   "metadata": {
    "editable": true,
    "scrolled": true,
    "slideshow": {
     "slide_type": ""
    },
    "tags": [
     "remove-cell"
    ]
   },
   "outputs": [
    {
     "name": "stdout",
     "output_type": "stream",
     "text": [
      "y =  0.54 x1 +  -0.05 x2 +  -0.43\n"
     ]
    }
   ],
   "source": [
    "'''\n",
    "For problems 4 & 5, please first download code [can be run on a Jupyter Notebook] and data. The dataset consists of \n",
    "connectomes derived from resting-state fMRIs of 120 individuals diagnosed with Autism Spectrum Disorder (ASD) and 120 \n",
    "typical controls. Each connectome, i.e., each subject’s brain network and properties, is encoded as an N-by-N correlation \n",
    "matrix M, where Mi,j is the functional connectivity (correlation in activation patterns) between brain region i and region j.\n",
    "'''\n",
    "'''\n",
    "Assume that the correlation matrix represents a graph where the nodes are the brain regions of interest (ROIs), and the edge \n",
    "weights are the correlation values. Graph metrics/measures can be used to describe topological properties (distinct \n",
    "arrangements and co-activation patterns within a functional brain network) of the brain at a global or local level. Apply \n",
    "at least 2 graph theory metrics (using the NetworkX Python library) to analyze the constructed networks and evaluate any \n",
    "similarities or differences between the two cohorts. Metrics/analyses might include (see downloaded   code for examples):\n",
    "●\tGlobal and local efficiency measures functional integration, i.e., the brain’s ability to exchange specialized \n",
    "    information within a network of distributed brain regions\n",
    "●\tLocal clustering coefficient quantify the extent of local \"connectedness” and indicates local connection segregation \n",
    "    between nodes.\n",
    "●\tSmall-world propensity quantifies the small-world structure of the brain, i.e., whether the brain network has high \n",
    "    local clustering (segregated functionally coherent units) and short path lengths among clusters.\n",
    "●\tHubs and Centrality (e.g. degree centrality) measures identify highly connected nodes (hubs) and their importance in \n",
    "    the network, which might differ between the subgroups.\n",
    "\n",
    "'''\n",
    "from ndslib.config import jupyter_startup\n",
    "jupyter_startup()\n",
    "\n",
    "# Import libraries \n",
    "import numpy as np\n",
    "\n",
    "\n",
    "\n",
    "\n",
    "\n",
    "\n"
   ]
  }
 ],
 "metadata": {
  "kernelspec": {
   "display_name": "Python 3 (ipykernel)",
   "language": "python",
   "name": "python3"
  },
  "language_info": {
   "codemirror_mode": {
    "name": "ipython",
    "version": 3
   },
   "file_extension": ".py",
   "mimetype": "text/x-python",
   "name": "python",
   "nbconvert_exporter": "python",
   "pygments_lexer": "ipython3",
   "version": "3.11.5"
  }
 },
 "nbformat": 4,
 "nbformat_minor": 5
}
