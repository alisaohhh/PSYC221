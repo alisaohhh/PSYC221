{
 "cells": [
  {
   "cell_type": "code",
   "execution_count": 9,
   "id": "abbce3cc-838c-4b27-b355-7434899e8708",
   "metadata": {
    "editable": true,
    "scrolled": true,
    "slideshow": {
     "slide_type": ""
    },
    "tags": [
     "remove-cell"
    ]
   },
   "outputs": [
    {
     "name": "stdout",
     "output_type": "stream",
     "text": [
      "Mean: 616.25 ms\n",
      "Standard Deviation: 63.60 ms\n",
      "t-statistic: 2.52\n",
      "Degrees of Freedom: 11\n",
      "p-value: 0.0285\n",
      "The reaction time is significantly different (p < 0.05)\n"
     ]
    }
   ],
   "source": [
    "'''\n",
    "The average reaction time in the Stroop test of 12 participants in a neurocognitive study is \n",
    "{590, 748, 579, 544, 570, 598, 599, 673, 635, 714, 580, 565} in milliseconds. Is the reaction time of \n",
    "the patient group unusual compared to the standard reaction time of 570 milliseconds at a \n",
    "significance level of 0.05? What are the sample mean, standard deviation, t-statistic, degree of freedom, and p-value?\n",
    "'''\n",
    "from ndslib.config import jupyter_startup\n",
    "from scipy.stats import ttest_1samp\n",
    "jupyter_startup()\n",
    "\n",
    "# Import libraries \n",
    "import numpy as np\n",
    "\n",
    "homework1a = np.array([590, 748, 579, 544, 570, 598, 599, 673, 635, 714, 580, 565])\n",
    "std_rxn_time = 570\n",
    "\n",
    "# Calculate\n",
    "hmwk_mean = np.mean(homework1a)\n",
    "hmwk_sd = np.std(homework1a, ddof=1)\n",
    "t_statistic, p_value = ttest_1samp(homework1a, std_rxn_time)\n",
    "dof = len(homework1a) - 1\n",
    "\n",
    "# Print results\n",
    "print(f\"Mean: {hmwk_mean:.2f} ms\")\n",
    "print(f\"Standard Deviation: {hmwk_sd:.2f} ms\")\n",
    "print(f\"t-statistic: {t_statistic:.2f}\")\n",
    "print(f\"Degrees of Freedom: {dof}\")\n",
    "print(f\"p-value: {p_value:.4f}\")\n",
    "\n",
    "# Conclusion w alpha 0.05\n",
    "alpha = 0.05\n",
    "if p_value < alpha:\n",
    "    print(f\"The reaction time is significantly different (p < {alpha})\")\n",
    "else:\n",
    "    print(f\"The reaction time is not significantly different (p >= {alpha})\")\n"
   ]
  },
  {
   "cell_type": "code",
   "execution_count": 10,
   "id": "fdf57a38-4a79-40a7-8a4f-5dbbd5e7704a",
   "metadata": {
    "tags": []
   },
   "outputs": [
    {
     "name": "stdout",
     "output_type": "stream",
     "text": [
      "Two-Tailed Test Results:\n",
      "t-statistic: 1.85\n",
      "p-value (two-tailed): 0.0803\n",
      "\n",
      "One-Tailed Test Results:\n",
      "p-value (one-tailed): 0.0402\n",
      "\n",
      "It is not significantly different under the two-tailed test (p < 0.05)\n",
      "It is significantly different under the one-tailed test (p < 0.05)\n"
     ]
    }
   ],
   "source": [
    "'''\n",
    "(b) The Stroop test was then separately taken for another cohort of 8 participants \n",
    "{570, 535, 606, 572, 568, 600, 554, 575}. Are the two cohorts significantly different in the reaction time \n",
    "based on a two-tailed two-sample t-test? What about the significance under a one-tailed test?\n",
    "'''\n",
    "from scipy.stats import ttest_ind\n",
    "import numpy as np\n",
    "\n",
    "homework1b = np.array([570, 535, 606, 572, 568, 600, 554, 575])\n",
    "\n",
    "# Perform two-tailed two-sample t-test (doing student t test/ normal distribution) \n",
    "t_stat_two_tailed, p_value_two_tailed = ttest_ind(homework1a, homework1b, equal_var=True)\n",
    "\n",
    "# Compute the one-tailed p-value (divide the two-tailed p-value by 2)\n",
    "p_value_one_tailed = p_value_two_tailed / 2\n",
    "\n",
    "# Print results\n",
    "print(\"Two-Tailed Test Results:\")\n",
    "print(f\"t-statistic: {t_stat_two_tailed:.2f}\")\n",
    "print(f\"p-value (two-tailed): {p_value_two_tailed:.4f}\")\n",
    "\n",
    "print(\"\\nOne-Tailed Test Results:\")\n",
    "print(f\"p-value (one-tailed): {p_value_one_tailed:.4f}\")\n",
    "\n",
    "# Determine significance at alpha = 0.05\n",
    "alpha = 0.05\n",
    "\n",
    "# Two-tailed test conclusion\n",
    "if p_value_two_tailed < alpha:\n",
    "    print(f\"\\nIt is significantly different under the two-tailed test (p < {alpha})\")\n",
    "else:\n",
    "    print(f\"\\nIt is not significantly different under the two-tailed test (p < {alpha})\")\n",
    "\n",
    "# One-tailed test conclusion\n",
    "if p_value_one_tailed < alpha:\n",
    "    print(f\"It is significantly different under the one-tailed test (p < {alpha})\")\n",
    "else:\n",
    "    print(f\"Is is not significantly different under the one-tailed test (p < {alpha})\")\n",
    "\n",
    "\n"
   ]
  },
  {
   "cell_type": "code",
   "execution_count": null,
   "id": "2c73254a-eae4-422d-a559-f40c9688e303",
   "metadata": {},
   "outputs": [],
   "source": []
  }
 ],
 "metadata": {
  "kernelspec": {
   "display_name": "Python 3 (ipykernel)",
   "language": "python",
   "name": "python3"
  },
  "language_info": {
   "codemirror_mode": {
    "name": "ipython",
    "version": 3
   },
   "file_extension": ".py",
   "mimetype": "text/x-python",
   "name": "python",
   "nbconvert_exporter": "python",
   "pygments_lexer": "ipython3",
   "version": "3.11.5"
  }
 },
 "nbformat": 4,
 "nbformat_minor": 5
}
