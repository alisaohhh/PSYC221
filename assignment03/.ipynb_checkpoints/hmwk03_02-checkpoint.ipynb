{
 "cells": [
  {
   "cell_type": "code",
   "execution_count": 84,
   "id": "abbce3cc-838c-4b27-b355-7434899e8708",
   "metadata": {
    "editable": true,
    "scrolled": true,
    "slideshow": {
     "slide_type": ""
    },
    "tags": [
     "remove-cell"
    ]
   },
   "outputs": [
    {
     "name": "stdout",
     "output_type": "stream",
     "text": [
      "y =  0.54 x1 +  -0.05 x2 +  -0.43\n"
     ]
    }
   ],
   "source": [
    "'''\n",
    " A new biomarker was extracted from 10 brain regions \n",
    " of 50 control participants and 50 patients. Given that the biomarker depends linearly on age and sex, please perform \n",
    " an analysis to test whether the disease group had significantly unusual values in the regional biomarkers compared \n",
    " to the control group and whether the disease effects differed between sexes. Please also use appropriate plots to \n",
    " visualize the significant effects, if there are any.\n",
    "'''\n",
    "from ndslib.config import jupyter_startup\n",
    "jupyter_startup()\n",
    "\n",
    "# Import libraries \n",
    "import numpy as np\n",
    "\n",
    "homework1a = np.array([590, 748, 579, 544, 570, 598, 599, 673, 635, 714, 580, 565])\n",
    "mean\n",
    "sd\n",
    "t\n",
    "dof\n",
    "pvalue\n",
    "\n",
    "\n",
    "\n",
    "\n",
    "\n"
   ]
  }
 ],
 "metadata": {
  "kernelspec": {
   "display_name": "Python 3 (ipykernel)",
   "language": "python",
   "name": "python3"
  },
  "language_info": {
   "codemirror_mode": {
    "name": "ipython",
    "version": 3
   },
   "file_extension": ".py",
   "mimetype": "text/x-python",
   "name": "python",
   "nbconvert_exporter": "python",
   "pygments_lexer": "ipython3",
   "version": "3.11.5"
  }
 },
 "nbformat": 4,
 "nbformat_minor": 5
}
