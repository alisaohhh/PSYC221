{
 "cells": [
  {
   "cell_type": "code",
   "execution_count": 84,
   "id": "abbce3cc-838c-4b27-b355-7434899e8708",
   "metadata": {
    "editable": true,
    "scrolled": true,
    "slideshow": {
     "slide_type": ""
    },
    "tags": [
     "remove-cell"
    ]
   },
   "outputs": [
    {
     "name": "stdout",
     "output_type": "stream",
     "text": [
      "y =  0.54 x1 +  -0.05 x2 +  -0.43\n"
     ]
    }
   ],
   "source": [
    "'''\n",
    "For problems 4 & 5, please first download code [can be run on a Jupyter Notebook] and data. The dataset consists of \n",
    "connectomes derived from resting-state fMRIs of 120 individuals diagnosed with Autism Spectrum Disorder (ASD) and 120 \n",
    "typical controls. Each connectome, i.e., each subject’s brain network and properties, is encoded as an N-by-N correlation \n",
    "matrix M, where Mi,j is the functional connectivity (correlation in activation patterns) between brain region i and region j.\n",
    "'''\n",
    "\n",
    "'''\n",
    "Use an approach of your choice (machine learning or statistical group analysis) to identify noticeable differences in \n",
    "correlation values between control subjects and those diagnosed with ASD. Based on your findings, what are the implications \n",
    "of these findings in understanding ASD’s impact on brain function? Feel free to use supporting literature to cite your \n",
    "claims. For further support, check out the tutorial on connectome analysis on 11/01. The materials will be uploaded shortly \n",
    "after the Friday tutorial.\n",
    "'''\n",
    "from ndslib.config import jupyter_startup\n",
    "jupyter_startup()\n",
    "\n",
    "# Import libraries \n",
    "import numpy as np\n",
    "\n",
    "\n",
    "\n",
    "\n",
    "\n"
   ]
  }
 ],
 "metadata": {
  "kernelspec": {
   "display_name": "Python 3 (ipykernel)",
   "language": "python",
   "name": "python3"
  },
  "language_info": {
   "codemirror_mode": {
    "name": "ipython",
    "version": 3
   },
   "file_extension": ".py",
   "mimetype": "text/x-python",
   "name": "python",
   "nbconvert_exporter": "python",
   "pygments_lexer": "ipython3",
   "version": "3.11.5"
  }
 },
 "nbformat": 4,
 "nbformat_minor": 5
}
