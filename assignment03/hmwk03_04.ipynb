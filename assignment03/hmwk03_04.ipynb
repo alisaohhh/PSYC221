{
 "cells": [
  {
   "cell_type": "code",
   "execution_count": 9,
   "id": "d1fb0514-8847-4940-a9db-50169d70ed19",
   "metadata": {
    "tags": []
   },
   "outputs": [],
   "source": [
    "%%capture\n",
    "# @title Run to install needed packages.\n",
    "!pip install nilearn torch torchvision torchaudio torch-geometric"
   ]
  },
  {
   "cell_type": "code",
   "execution_count": 10,
   "id": "abbce3cc-838c-4b27-b355-7434899e8708",
   "metadata": {
    "editable": true,
    "scrolled": true,
    "slideshow": {
     "slide_type": ""
    },
    "tags": [
     "remove-cell"
    ]
   },
   "outputs": [
    {
     "name": "stdout",
     "output_type": "stream",
     "text": [
      "ABIDE data loaded from NPZ file.\n",
      "Number of participants: 240\n",
      "\n",
      "Added README.md to C:\\Users\\alisa/nilearn_data\n",
      "\n",
      "\n",
      "Dataset created in C:\\Users\\alisa/nilearn_data\\aal_SPM12\n",
      "\n",
      "Downloading data from https://www.gin.cnrs.fr/AAL_files/aal_for_SPM12.tar.gz ...\n"
     ]
    },
    {
     "name": "stderr",
     "output_type": "stream",
     "text": [
      "Downloaded 212992 of 351343 bytes (60.6%,    0.7s remaining)"
     ]
    },
    {
     "name": "stdout",
     "output_type": "stream",
     "text": [
      "Number of ROIs: 116\n"
     ]
    },
    {
     "name": "stderr",
     "output_type": "stream",
     "text": [
      " ...done. (4 seconds, 0 min)\n",
      "Extracting data from C:\\Users\\alisa/nilearn_data\\aal_SPM12\\556fddbb7c4821a18d1f85eefdc0f60e\\aal_for_SPM12.tar.gz..... done.\n"
     ]
    },
    {
     "data": {
      "text/plain": [
       "'\\nUse an approach of your choice (machine learning or statistical group analysis) to identify noticeable differences in \\ncorrelation values between control subjects and those diagnosed with ASD. Based on your findings, what are the implications \\nof these findings in understanding ASD’s impact on brain function? Feel free to use supporting literature to cite your \\nclaims. For further support, check out the tutorial on connectome analysis on 11/01. The materials will be uploaded shortly \\nafter the Friday tutorial.\\n'"
      ]
     },
     "execution_count": 10,
     "metadata": {},
     "output_type": "execute_result"
    }
   ],
   "source": [
    "'''\n",
    "For problems 4 & 5, please first download code [can be run on a Jupyter Notebook] and data. The dataset consists of \n",
    "connectomes derived from resting-state fMRIs of 120 individuals diagnosed with Autism Spectrum Disorder (ASD) and 120 \n",
    "typical controls. Each connectome, i.e., each subject’s brain network and properties, is encoded as an N-by-N correlation \n",
    "matrix M, where Mi,j is the functional connectivity (correlation in activation patterns) between brain region i and region j.\n",
    "'''\n",
    "#####################################\n",
    "### This is from the starter code ###\n",
    "#####################################\n",
    "\n",
    "# @title Construct weighted graphs using our connectivity matrices\n",
    "import numpy as np\n",
    "import pickle as pkl\n",
    "from nilearn.connectome import ConnectivityMeasure\n",
    "\n",
    "'''\n",
    "Load the connectivity matrices\n",
    "Note: each connectivity matrix (sample) was derived using the NiftiLabelsMasker\n",
    "and ConnectivityMeasure [with full Pearson's correlation] from nilearn and each\n",
    "sample was also standardized by z-score\n",
    "[i.e., zero mean scaled to unit variance w.r.t. sample std]\n",
    "'''\n",
    "\n",
    "data_path = './ABIDE_240.npz' # Be sure to update this to wherever you stored data\n",
    "\n",
    "# Load the data\n",
    "data = np.load(data_path)\n",
    "\n",
    "# Accessing the arrays\n",
    "connectomes = data['features']\n",
    "labels_abide = data['labels']\n",
    "\n",
    "print(\"ABIDE data loaded from NPZ file.\")\n",
    "\n",
    "# Check the number of subject functional scans fetched\n",
    "print(f\"Number of participants: {len(connectomes)}\")\n",
    "\n",
    "from nilearn import plotting\n",
    "from nilearn import datasets\n",
    "\n",
    "# Retrieve AAL brain atlas for parcellation, more info here: https://www.sciencedirect.com/science/article/pii/S1053811901909784\n",
    "parcellations = datasets.fetch_atlas_aal()\n",
    "atlas_filename = parcellations.maps\n",
    "labels_parc = parcellations.labels\n",
    "print(f\"Number of ROIs: {len(labels_parc)}\")\n",
    "\n",
    "\n",
    "\n",
    "'''\n",
    "Use an approach of your choice (machine learning or statistical group analysis) to identify noticeable differences in \n",
    "correlation values between control subjects and those diagnosed with ASD. Based on your findings, what are the implications \n",
    "of these findings in understanding ASD’s impact on brain function? Feel free to use supporting literature to cite your \n",
    "claims. For further support, check out the tutorial on connectome analysis on 11/01. The materials will be uploaded shortly \n",
    "after the Friday tutorial.\n",
    "'''\n",
    "\n",
    "\n",
    "\n",
    "\n",
    "\n",
    "\n"
   ]
  },
  {
   "cell_type": "code",
   "execution_count": null,
   "id": "a1818a76-2848-4382-94f0-d9f47d592ebb",
   "metadata": {},
   "outputs": [],
   "source": []
  }
 ],
 "metadata": {
  "kernelspec": {
   "display_name": "Python 3 (ipykernel)",
   "language": "python",
   "name": "python3"
  },
  "language_info": {
   "codemirror_mode": {
    "name": "ipython",
    "version": 3
   },
   "file_extension": ".py",
   "mimetype": "text/x-python",
   "name": "python",
   "nbconvert_exporter": "python",
   "pygments_lexer": "ipython3",
   "version": "3.11.5"
  }
 },
 "nbformat": 4,
 "nbformat_minor": 5
}
