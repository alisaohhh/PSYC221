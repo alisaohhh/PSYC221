{
 "cells": [
  {
   "cell_type": "code",
   "execution_count": 84,
   "id": "abbce3cc-838c-4b27-b355-7434899e8708",
   "metadata": {
    "editable": true,
    "scrolled": true,
    "slideshow": {
     "slide_type": ""
    },
    "tags": [
     "remove-cell"
    ]
   },
   "outputs": [
    {
     "name": "stdout",
     "output_type": "stream",
     "text": [
      "y =  0.54 x1 +  -0.05 x2 +  -0.43\n"
     ]
    }
   ],
   "source": [
    "'''\n",
    "The average reaction time in the Stroop test of 12 participants in a neurocognitive study is \n",
    "{590, 748, 579, 544, 570, 598, 599, 673, 635, 714, 580, 565} in milliseconds. Is the reaction time of \n",
    "the patient group unusual compared to the standard reaction time of 570 milliseconds at a \n",
    "significance level of 0.05? What are the sample mean, standard deviation, t-statistic, degree of freedom, and p-value?\n",
    "'''\n",
    "from ndslib.config import jupyter_startup\n",
    "jupyter_startup()\n",
    "\n",
    "# Import libraries \n",
    "import numpy as np\n",
    "\n",
    "homework1a = np.array([590, 748, 579, 544, 570, 598, 599, 673, 635, 714, 580, 565])\n",
    "mean\n",
    "sd\n",
    "t\n",
    "dof\n",
    "pvalue\n",
    "\n",
    "\n",
    "'''\n",
    "(b) The Stroop test was then separately taken for another cohort of 8 participants \n",
    "{570, 535, 606, 572, 568, 600, 554, 575}. Are the two cohorts significantly different in the reaction time \n",
    "based on a two-tailed two-sample t-test? What about the significance under a one-tailed test?\n",
    "'''\n",
    "\n",
    "homework1b = np.array([570, 535, 606, 572, 568, 600, 554, 575])\n",
    "two tailed t test\n",
    "significance under one tail \n",
    "\n",
    "\n",
    "\n",
    "\n"
   ]
  }
 ],
 "metadata": {
  "kernelspec": {
   "display_name": "Python 3 (ipykernel)",
   "language": "python",
   "name": "python3"
  },
  "language_info": {
   "codemirror_mode": {
    "name": "ipython",
    "version": 3
   },
   "file_extension": ".py",
   "mimetype": "text/x-python",
   "name": "python",
   "nbconvert_exporter": "python",
   "pygments_lexer": "ipython3",
   "version": "3.11.5"
  }
 },
 "nbformat": 4,
 "nbformat_minor": 5
}
