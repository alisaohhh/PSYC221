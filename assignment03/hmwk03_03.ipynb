{
 "cells": [
  {
   "cell_type": "code",
   "execution_count": 84,
   "id": "abbce3cc-838c-4b27-b355-7434899e8708",
   "metadata": {
    "editable": true,
    "scrolled": true,
    "slideshow": {
     "slide_type": ""
    },
    "tags": [
     "remove-cell"
    ]
   },
   "outputs": [
    {
     "name": "stdout",
     "output_type": "stream",
     "text": [
      "y =  0.54 x1 +  -0.05 x2 +  -0.43\n"
     ]
    }
   ],
   "source": [
    "'''\n",
    "You are provided with a simplified dataset of DTI images from a 2D brain region, and your goal is to perform DTI \n",
    "tractography to visualize and analyze the white matter tracts within this 2D region. You have a 2D Diffusion Tensor \n",
    "at the highlighted pixel in the center. If you reconstruct the tract from the center seed, what is the next coordinate \n",
    "in the tract? Mark it in the figure. Explain your choice step by step.\n",
    "'''\n",
    "from ndslib.config import jupyter_startup\n",
    "jupyter_startup()\n",
    "\n",
    "# Import libraries \n",
    "import numpy as np\n",
    "\n",
    "\n",
    "\n",
    "\n",
    "\n",
    "\n"
   ]
  }
 ],
 "metadata": {
  "kernelspec": {
   "display_name": "Python 3 (ipykernel)",
   "language": "python",
   "name": "python3"
  },
  "language_info": {
   "codemirror_mode": {
    "name": "ipython",
    "version": 3
   },
   "file_extension": ".py",
   "mimetype": "text/x-python",
   "name": "python",
   "nbconvert_exporter": "python",
   "pygments_lexer": "ipython3",
   "version": "3.11.5"
  }
 },
 "nbformat": 4,
 "nbformat_minor": 5
}
