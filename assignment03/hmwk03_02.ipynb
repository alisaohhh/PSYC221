{
 "cells": [
  {
   "cell_type": "code",
   "execution_count": 2,
   "id": "abbce3cc-838c-4b27-b355-7434899e8708",
   "metadata": {
    "editable": true,
    "scrolled": true,
    "slideshow": {
     "slide_type": ""
    },
    "tags": [
     "remove-cell"
    ]
   },
   "outputs": [],
   "source": [
    "'''\n",
    " A new biomarker was extracted from 10 brain regions of 50 control participants and 50 patients. Given that the biomarker \n",
    " depends linearly on age and sex, please perform an analysis to test whether the disease group had significantly unusual\n",
    " values in the regional biomarkers compared to the control group and whether the disease effects differed between sexes. \n",
    " Please also use appropriate plots to visualize the significant effects, if there are any.\n",
    "'''\n",
    "\n",
    "from ndslib.config import jupyter_startup\n",
    "jupyter_startup()\n",
    "\n",
    "# Import libraries \n",
    "import numpy as np\n",
    "\n",
    "data = np.loadtxt('data_assignment_1.csv', delimiter=',', skiprows=1)\n",
    "\n",
    "### data shaping\n",
    "age = data[:, 0]\n",
    "sex = data[:, 1]\n",
    "dx = data[:, 2]  # Assuming the target variable is in the third column\n",
    "rois = data[:, 3:13]  # Assuming features are in columns 3 to 12 (10 features total)\n",
    "\n",
    "\n",
    "\n",
    "\n",
    "\n"
   ]
  },
  {
   "cell_type": "code",
   "execution_count": null,
   "id": "f91599e5-3b5b-46c9-bff3-2e30a2ceddaf",
   "metadata": {},
   "outputs": [],
   "source": []
  }
 ],
 "metadata": {
  "kernelspec": {
   "display_name": "Python 3 (ipykernel)",
   "language": "python",
   "name": "python3"
  },
  "language_info": {
   "codemirror_mode": {
    "name": "ipython",
    "version": 3
   },
   "file_extension": ".py",
   "mimetype": "text/x-python",
   "name": "python",
   "nbconvert_exporter": "python",
   "pygments_lexer": "ipython3",
   "version": "3.11.5"
  }
 },
 "nbformat": 4,
 "nbformat_minor": 5
}
