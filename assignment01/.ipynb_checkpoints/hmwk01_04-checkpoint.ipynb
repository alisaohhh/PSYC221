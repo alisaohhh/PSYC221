{
 "cells": [
  {
   "cell_type": "code",
   "execution_count": null,
   "id": "e5c4dba6-27c3-4938-9822-22a743c480a9",
   "metadata": {},
   "outputs": [],
   "source": [
    "'''\n",
    "From Section 14 of the Book: A morphological white tophat is an image minus its morphological opening. \n",
    "A morphological black tophat is an image minus its morphological closing. Implement each of these as a function.\n",
    "What kinds of features do each of these emphasize? How does that depend on the structuring element that you use? \n",
    "Hint: skimage.morphology implements several structuring elements, including disk that you have already seen, \n",
    "but also square, diamond, and others. \n",
    "'''\n",
    "\n"
   ]
  }
 ],
 "metadata": {
  "kernelspec": {
   "display_name": "Python 3 (ipykernel)",
   "language": "python",
   "name": "python3"
  },
  "language_info": {
   "codemirror_mode": {
    "name": "ipython",
    "version": 3
   },
   "file_extension": ".py",
   "mimetype": "text/x-python",
   "name": "python",
   "nbconvert_exporter": "python",
   "pygments_lexer": "ipython3",
   "version": "3.11.5"
  }
 },
 "nbformat": 4,
 "nbformat_minor": 5
}
