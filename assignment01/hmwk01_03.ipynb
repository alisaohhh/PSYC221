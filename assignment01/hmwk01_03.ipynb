{
 "cells": [
  {
   "cell_type": "code",
   "execution_count": 1,
   "id": "d1ff2274-d26a-4c97-9251-db6ac35a0da3",
   "metadata": {
    "tags": []
   },
   "outputs": [
    {
     "data": {
      "text/plain": [
       "True"
      ]
     },
     "execution_count": 1,
     "metadata": {},
     "output_type": "execute_result"
    }
   ],
   "source": [
    "'''\n",
    "Download and install git and configure it with your name and email address on your local machine or a server \n",
    "you have access to (such as colab); Create a new project and upload it to GitHub. \n",
    "Once you have done this, create a new readme file and commit the changes to your remote repository on GitHub. \n",
    "Post the link to the GitHub you created and all material \n",
    "(text description of the Linux command lines you wrote) used as your solution to this problem. \n",
    "\n",
    "'''\n",
    "\n",
    "from ndslib.config import jupyter_startup\n",
    "jupyter_startup()\n",
    "\n",
    "import webbrowser\n",
    "url = 'https://github.com/alisaohhh/PSYC221'\n",
    "webbrowser.open(url)"
   ]
  }
 ],
 "metadata": {
  "kernelspec": {
   "display_name": "Python 3 (ipykernel)",
   "language": "python",
   "name": "python3"
  },
  "language_info": {
   "codemirror_mode": {
    "name": "ipython",
    "version": 3
   },
   "file_extension": ".py",
   "mimetype": "text/x-python",
   "name": "python",
   "nbconvert_exporter": "python",
   "pygments_lexer": "ipython3",
   "version": "3.11.5"
  }
 },
 "nbformat": 4,
 "nbformat_minor": 5
}
