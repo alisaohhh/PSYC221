{
 "cells": [
  {
   "cell_type": "code",
   "execution_count": null,
   "id": "e67a4086-1dfd-4d49-b50e-7190700019a6",
   "metadata": {},
   "outputs": [],
   "source": [
    "# Draw a brain and highlight two major structures (one cortical and one subcortical)\n",
    "\n",
    "\n",
    "# Name the view (e.g. axial, coronal or sagittal) and describe their function and clinical relevance.\n"
   ]
  },
  {
   "cell_type": "code",
   "execution_count": null,
   "id": "b50d2edd-ca27-4124-8012-a41c731db7af",
   "metadata": {},
   "outputs": [],
   "source": [
    "'''\n",
    "Discuss the key preprocessing steps for MRI data discussed in the class. \n",
    "For each step, explain its function and the potential consequences of omitting that step on the quality and \n",
    "reliability of the resulting images and analyses. \n",
    "\n"
   ]
  }
 ],
 "metadata": {
  "kernelspec": {
   "display_name": "Python 3 (ipykernel)",
   "language": "python",
   "name": "python3"
  },
  "language_info": {
   "codemirror_mode": {
    "name": "ipython",
    "version": 3
   },
   "file_extension": ".py",
   "mimetype": "text/x-python",
   "name": "python",
   "nbconvert_exporter": "python",
   "pygments_lexer": "ipython3",
   "version": "3.11.5"
  }
 },
 "nbformat": 4,
 "nbformat_minor": 5
}
