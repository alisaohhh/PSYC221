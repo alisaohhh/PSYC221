{
 "cells": [
  {
   "cell_type": "code",
   "execution_count": 31,
   "id": "891e2654-c400-47ff-a5f7-b10c405e8899",
   "metadata": {
    "editable": true,
    "slideshow": {
     "slide_type": ""
    },
    "tags": []
   },
   "outputs": [],
   "source": [
    "# (Programming, data available here) The data includes volumes of 10 brain regions of 50 control \n",
    "# participants and 50 patients. Use the volumes of the 10 regions as input features and build\n",
    "#   (a) a two-layer neural network classifier to predict the disease diagnosis. Use 5-fold inner cross-validation (as discussed in the class) to tune the learning rate hyperparameter. \n",
    "#   (b) train a linear SVM and use inner cross-validation to tune the hyperparameter C of the SVM. \n",
    "#   (c) For each classifier, report Accuracy, Precision, Recall, and AUC (average and standard deviation \n",
    "#       over the five folds), and compare the results in a table. (3’)1,400 × 563\n",
    "# Note: For P5 and P6, please include source code, necessary comments and a description of models and\n",
    "# procedures. Using Jupyter notebook is encouraged but other tools/languages are also acceptable.\n",
    "\n",
    "####Generate the data\n",
    "import numpy as np\n",
    "import matplotlib.pyplot as plt\n",
    "from sklearn.datasets import make_blobs\n",
    "from sklearn.model_selection import train_test_split\n",
    "from sklearn.linear_model import LinearRegression\n",
    "\n",
    "\n",
    "\n",
    "data = np.loadtxt('data_assignment_1.csv', delimiter=',', skiprows=1)\n",
    "\n",
    "### generate data points\n",
    "y = data[:, 2]  # Assuming the target variable is in the third column\n",
    "X = data[:, 3:13]  # Assuming features are in columns 3 to 12 (10 features total)\n"
   ]
  },
  {
   "cell_type": "code",
   "execution_count": 48,
   "id": "099ae558-78c6-48a0-a225-9ebe36c33587",
   "metadata": {
    "tags": []
   },
   "outputs": [
    {
     "name": "stdout",
     "output_type": "stream",
     "text": [
      "Fold 1/5\n",
      "Validation Accuracy for Fold 1: 0.5500\n",
      "Fold 2/5\n",
      "Validation Accuracy for Fold 2: 0.7000\n",
      "Fold 3/5\n",
      "Validation Accuracy for Fold 3: 0.8000\n",
      "Fold 4/5\n",
      "Validation Accuracy for Fold 4: 0.5500\n",
      "Fold 5/5\n",
      "Validation Accuracy for Fold 5: 0.4000\n",
      "\n",
      "Classification Report:\n",
      "              precision    recall  f1-score   support\n",
      "\n",
      "           0       0.61      0.54      0.57        50\n",
      "           1       0.59      0.66      0.62        50\n",
      "\n",
      "    accuracy                           0.60       100\n",
      "   macro avg       0.60      0.60      0.60       100\n",
      "weighted avg       0.60      0.60      0.60       100\n",
      "\n"
     ]
    }
   ],
   "source": [
    "#   (a) a two-layer neural network classifier to predict the disease diagnosis. \n",
    "# Use 5-fold inner cross-validation (as discussed in the class) to tune the learning rate hyperparameter. \n",
    "\n",
    "### Build 2 linear layers for this task (train, testing, validate)\n",
    "import torch.nn as nn\n",
    "import torch.nn.functional as F\n",
    "from sklearn.model_selection import GridSearchCV, train_test_split, KFold\n",
    "from torch.utils.data import TensorDataset, DataLoader\n",
    "\n",
    "from sklearn.metrics import classification_report\n",
    "\n",
    "# Perform k-fold cross-validation\n",
    "fold = 1\n",
    "all_y_val = []\n",
    "all_y_pred = []\n",
    "\n",
    "for train_idx, val_idx in kf.split(X):\n",
    "    print(f\"Fold {fold}/{k}\")\n",
    "    \n",
    "    # Split data into training and validation sets\n",
    "    X_train, X_val = X_tensor[train_idx], X_tensor[val_idx]\n",
    "    y_train, y_val = y_tensor[train_idx], y_tensor[val_idx]\n",
    "    \n",
    "    # Create DataLoader for batching\n",
    "    train_dataset = TensorDataset(X_train, y_train)\n",
    "    val_dataset = TensorDataset(X_val, y_val)\n",
    "    train_loader = DataLoader(train_dataset, batch_size=batch_size, shuffle=True)\n",
    "    val_loader = DataLoader(val_dataset, batch_size=batch_size, shuffle=False)\n",
    "    \n",
    "    # Initialize the model, loss function, and optimizer\n",
    "    model = MyModel(input_dim=X.shape[1])  # Input dimension = number of features\n",
    "    criterion = nn.CrossEntropyLoss()\n",
    "    optimizer = torch.optim.Adam(model.parameters(), lr=learning_rate)\n",
    "    \n",
    "    # Training loop\n",
    "    for epoch in range(epochs):\n",
    "        model.train()\n",
    "        for batch_X, batch_y in train_loader:\n",
    "            optimizer.zero_grad()\n",
    "            predictions = model(batch_X)\n",
    "            loss = criterion(predictions, batch_y)\n",
    "            loss.backward()\n",
    "            optimizer.step()\n",
    "\n",
    "    # Evaluate on validation data\n",
    "    model.eval()\n",
    "    fold_y_val = []\n",
    "    fold_y_pred = []\n",
    "    with torch.no_grad():\n",
    "        for batch_X, batch_y in val_loader:\n",
    "            predictions = model(batch_X)\n",
    "            _, predicted_classes = torch.max(predictions, dim=1)\n",
    "            fold_y_val.extend(batch_y.cpu().numpy())\n",
    "            fold_y_pred.extend(predicted_classes.cpu().numpy())\n",
    "    \n",
    "    # Store predictions and true labels for the fold\n",
    "    all_y_val.extend(fold_y_val)\n",
    "    all_y_pred.extend(fold_y_pred)\n",
    "    \n",
    "    # Calculate accuracy for the fold\n",
    "    val_accuracy = accuracy_score(fold_y_val, fold_y_pred)\n",
    "    print(f\"Validation Accuracy for Fold {fold}: {val_accuracy:.4f}\")\n",
    "    fold += 1\n",
    "\n",
    "# Final Classification Report\n",
    "print(\"\\nClassification Report:\")\n",
    "print(classification_report(all_y_val, all_y_pred))"
   ]
  },
  {
   "cell_type": "code",
   "execution_count": 47,
   "id": "4031877d-a75d-4af7-812d-ea0d1abab75c",
   "metadata": {
    "tags": []
   },
   "outputs": [
    {
     "name": "stdout",
     "output_type": "stream",
     "text": [
      "Fitting 5 folds for each of 4 candidates, totalling 20 fits\n",
      "Best C: 100\n",
      "Test Accuracy: 0.6\n",
      "Classification Report:\n",
      "               precision    recall  f1-score   support\n",
      "\n",
      "         0.0       0.56      0.64      0.60        14\n",
      "         1.0       0.64      0.56      0.60        16\n",
      "\n",
      "    accuracy                           0.60        30\n",
      "   macro avg       0.60      0.60      0.60        30\n",
      "weighted avg       0.61      0.60      0.60        30\n",
      "\n"
     ]
    }
   ],
   "source": [
    "#   (b) train a linear SVM and use inner cross-validation to tune the hyperparameter C of the SVM. \n",
    "\n",
    "from sklearn.svm import SVC\n",
    "from sklearn.metrics import classification_report, accuracy_score\n",
    "\n",
    "# Split the data into training and testing sets\n",
    "X_train, X_test, y_train, y_test = train_test_split(X, y, test_size=0.3, random_state=42)\n",
    "\n",
    "# Define the SVM model\n",
    "svm = SVC(kernel='linear', random_state=42)\n",
    "\n",
    "# Establish hyperparameter C  (otherwise could be defined above as argument) \n",
    "param_grid = {'C': [0.1, 1, 10, 100]}\n",
    "\n",
    "# Set up GridSearchCV for inner cross-validation\n",
    "grid_search = GridSearchCV(estimator=svm, param_grid=param_grid, cv=5, scoring='accuracy', verbose=1)\n",
    "\n",
    "# Perform the grid search on the training set\n",
    "grid_search.fit(X_train, y_train)\n",
    "\n",
    "# Get the best hyperparameter and corresponding model\n",
    "best_model = grid_search.best_estimator_\n",
    "best_C = grid_search.best_params_['C']\n",
    "print(f\"Best C: {best_C}\")\n",
    "\n",
    "# Evaluate the best model on the test set\n",
    "y_pred = best_model.predict(X_test)\n",
    "print(\"Test Accuracy:\", accuracy_score(y_test, y_pred))\n",
    "print(\"Classification Report:\\n\", classification_report(y_test, y_pred))\n"
   ]
  },
  {
   "cell_type": "code",
   "execution_count": null,
   "id": "ab1a3166-c8ca-49f7-8f7b-3feb90def79b",
   "metadata": {},
   "outputs": [],
   "source": [
    "#   (c) For each classifier, report Accuracy, Precision, Recall, and AUC (average and standard deviation \n",
    "#       over the five folds), and compare the results in a table. (3’) 1,400 × 563"
   ]
  }
 ],
 "metadata": {
  "kernelspec": {
   "display_name": "Python 3 (ipykernel)",
   "language": "python",
   "name": "python3"
  },
  "language_info": {
   "codemirror_mode": {
    "name": "ipython",
    "version": 3
   },
   "file_extension": ".py",
   "mimetype": "text/x-python",
   "name": "python",
   "nbconvert_exporter": "python",
   "pygments_lexer": "ipython3",
   "version": "3.11.5"
  }
 },
 "nbformat": 4,
 "nbformat_minor": 5
}
