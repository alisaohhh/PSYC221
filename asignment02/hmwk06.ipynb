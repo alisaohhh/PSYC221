{
 "cells": [
  {
   "cell_type": "code",
   "execution_count": null,
   "id": "891e2654-c400-47ff-a5f7-b10c405e8899",
   "metadata": {},
   "outputs": [],
   "source": [
    "# (Programming, data available here) The data includes volumes of 10 brain regions of 50 control \n",
    "# participants and 50 patients. Use the volumes of the 10 regions as input features and build\n",
    "#   (a) a two-layer neural network classifier to predict the disease diagnosis. Use 5-fold inner cross-validation (as discussed in the class) to tune the learning rate hyperparameter. \n",
    "#   (b) train a linear SVM and use inner cross-validation to tune the hyperparameter C of the SVM. \n",
    "#   (c) For each classifier, report Accuracy, Precision, Recall, and AUC (average and standard deviation \n",
    "#       over the five folds), and compare the results in a table. (3’)1,400 × 563\n",
    "# Note: For P5 and P6, please include source code, necessary comments and a description of models and\n",
    "# procedures. Using Jupyter notebook is encouraged but other tools/languages are also acceptable.\n"
   ]
  }
 ],
 "metadata": {
  "kernelspec": {
   "display_name": "Python 3 (ipykernel)",
   "language": "python",
   "name": "python3"
  },
  "language_info": {
   "codemirror_mode": {
    "name": "ipython",
    "version": 3
   },
   "file_extension": ".py",
   "mimetype": "text/x-python",
   "name": "python",
   "nbconvert_exporter": "python",
   "pygments_lexer": "ipython3",
   "version": "3.11.5"
  }
 },
 "nbformat": 4,
 "nbformat_minor": 5
}
