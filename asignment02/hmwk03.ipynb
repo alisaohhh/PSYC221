{
 "cells": [
  {
   "cell_type": "code",
   "execution_count": null,
   "id": "ca3aa256-dc3a-4aa7-9e56-043f2ab00c80",
   "metadata": {},
   "outputs": [],
   "source": [
    "# 3.\t The MRIs of a longitudinal sequence often have quite different intensity profiles, e.g.,\n",
    "# What could be the potential causes for these intensity differences? Please write out pseudo-code \n",
    "# for normalizing this intensity difference using the approach described in the course.  (1’)\n",
    "\n",
    "'''\n",
    "\n",
    "Register Baseline to 1 Year Follow up\n",
    "Smooth both 1 Year Follow up and Baseline\n",
    "Divide smooth 1 Year Follow up by Baseline\n",
    "Multiply output with 1 Year Follow Up\n",
    "\n",
    "'''\n"
   ]
  }
 ],
 "metadata": {
  "kernelspec": {
   "display_name": "Python 3 (ipykernel)",
   "language": "python",
   "name": "python3"
  },
  "language_info": {
   "codemirror_mode": {
    "name": "ipython",
    "version": 3
   },
   "file_extension": ".py",
   "mimetype": "text/x-python",
   "name": "python",
   "nbconvert_exporter": "python",
   "pygments_lexer": "ipython3",
   "version": "3.11.5"
  }
 },
 "nbformat": 4,
 "nbformat_minor": 5
}
