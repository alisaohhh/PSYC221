{
 "cells": [
  {
   "cell_type": "code",
   "execution_count": null,
   "id": "ca3aa256-dc3a-4aa7-9e56-043f2ab00c80",
   "metadata": {
    "editable": true,
    "slideshow": {
     "slide_type": ""
    },
    "tags": []
   },
   "outputs": [],
   "source": [
    "# 3.\t The MRIs of a longitudinal sequence often have quite different intensity profiles, e.g.,\n",
    "# What could be the potential causes for these intensity differences? Please write out pseudo-code \n",
    "# for normalizing this intensity difference using the approach described in the course.  (1’)\n",
    "\n",
    "'''\n",
    "The intensity differences may be traced back to image acquisition. \n",
    "As intensities are not absolute, they may reflect differences unique to the MRI machine or acquisition process. \n",
    "Aspects such as coil sensitivity may be affected leading to differing image inhomogeneity. \n",
    "Or, if a different MRI machine or site was used, this would also have an effect.\n",
    "If the positioning was changed or the subject themself changed in some significant way \n",
    "(perhaps a drastic change in weight), this would also affect the intensities. \n",
    "\n",
    "First, the 1 year follow up should be registered to match the baseline scan. \n",
    "An affine registration is ideal for aligning two brain scans with each other. \n",
    "From the dipy.align.transforms package, import AffineTransform3D \n",
    "Call affreg.optimize to use AffineTransform3D() with the brain baseline and follow up scans as an argument. \n",
    "Call affine_reg.transform on the registered images in the previous function\n",
    "\n",
    "Next, the images should be smoothed. \n",
    "Import the gaussian function from the skimage.filters package\n",
    "Apply the gaussian function to the registered brain scans. The sigma argument is a measure of the \n",
    "amount of spread of the gaussian filter. The ideal sigma value may depend on the images used. \n",
    "A starting point could be a sigma of 1. \n",
    "\n",
    "Thirdly, the smoothed follow-up image should be divided by the baseline image to create a ratio of intensities. \n",
    "Assuming these are numpy arrays of the same dimensions, you can call the np.divide function, specifying \n",
    "out and where parameters to skip when intensities in the baseline image (denominator) are equal to zero. \n",
    "The out parameter may be an initialized array with zeros, so skipped elements default to a value of zero. \n",
    "\n",
    "Lastly, you may multiply the output with ratio created above. For example, if the baseline is 1.2 x brighter than the follow-up,\n",
    "you may multiple the f/u image by 1.2 to normalize the two to each other. Instead of a single value though, this is an array of values. \n",
    "\n",
    "'''\n"
   ]
  }
 ],
 "metadata": {
  "kernelspec": {
   "display_name": "Python 3 (ipykernel)",
   "language": "python",
   "name": "python3"
  },
  "language_info": {
   "codemirror_mode": {
    "name": "ipython",
    "version": 3
   },
   "file_extension": ".py",
   "mimetype": "text/x-python",
   "name": "python",
   "nbconvert_exporter": "python",
   "pygments_lexer": "ipython3",
   "version": "3.11.5"
  }
 },
 "nbformat": 4,
 "nbformat_minor": 5
}
