{
 "cells": [
  {
   "cell_type": "code",
   "execution_count": null,
   "id": "f50e6c58-7ba0-4707-8c33-685c410c4627",
   "metadata": {
    "editable": true,
    "slideshow": {
     "slide_type": ""
    },
    "tags": []
   },
   "outputs": [],
   "source": [
    "# 2.\tReview the three key components that define a rigid registration and four for non-rigid \n",
    "# registration. For each component, the review should specify its purpose and an example.  (1’)\n",
    "\n",
    "'''\n",
    "\n",
    "Rigid transformation\n",
    "1 Tranformation - What kind of transformation to do? These are limited to translations or rotations. \n",
    "An image can be moved, or transformed,  while maintaining the spatial relationships within \n",
    "the matrix \n",
    "Example - A translation for example may add a parameter to each point. With the same amount being added\n",
    "to each value, the spatial relationships between each point are the same. The differences are where \n",
    "the tranformed matrix is placed in relation to a given axis. \n",
    "\n",
    "2 Similarity metric - This is a measure to assess how similar or aligned two images are. This is a way\n",
    "to assess the quality of the transformation and can therefor be optimized for the third component.\n",
    "Example - Entropy is a concept to describe the amount of information in a given variable, such as the \n",
    "distribution of intensities in an image. Joint entropy is a metric that examines the probability of \n",
    "an intensity representing one variable versus the other. It measures the uncertainty or randomness \n",
    "in two images examined together, i.e. jointly.\n",
    "\n",
    "3 Optimization - This is how the problem is solved so as to optimize the similarity matrix, or minimize\n",
    "the amount of entropy, using the terms in the example above. Given a transform T, we want to find the \n",
    "solution with the lowest possible difference. \n",
    "Example - Stochastic gradient descent is one possible approach to solve this problem. In a transform T,\n",
    "we may maximize the point where there is the steepest descent. T = arg max |X, T(Y)| This may be done\n",
    "by getting the partial derivative of a given cost function, and then finding the minima. \n",
    "\n",
    "\n",
    "\n",
    "Non-rigid transformation\n",
    "1 Similarity metric - This is the same concept as above. \n",
    "Example \n",
    "\n",
    "2 Optimization - This is the same concept as above \n",
    "Example \n",
    "\n",
    "3 Encoding of deformation field (e.g. B-Spline)\n",
    "Example \n",
    "\n",
    "4 Regularization (e.g., smooth / diffeomorphic/ symmetric)\n",
    "Example \n",
    "\n",
    "\n",
    "\n",
    "\n",
    "\n",
    "\n",
    "'''"
   ]
  }
 ],
 "metadata": {
  "kernelspec": {
   "display_name": "Python 3 (ipykernel)",
   "language": "python",
   "name": "python3"
  },
  "language_info": {
   "codemirror_mode": {
    "name": "ipython",
    "version": 3
   },
   "file_extension": ".py",
   "mimetype": "text/x-python",
   "name": "python",
   "nbconvert_exporter": "python",
   "pygments_lexer": "ipython3",
   "version": "3.12.7"
  }
 },
 "nbformat": 4,
 "nbformat_minor": 5
}
