{
 "cells": [
  {
   "cell_type": "code",
   "execution_count": null,
   "id": "7d2dc610-3cda-45ce-be40-cb440d847e2a",
   "metadata": {},
   "outputs": [],
   "source": [
    "# 1.\tPlease write down the 3D rigid transformation as a single matrix dependent on translation \n",
    "# and rotation parameters. How does the matrix change if you add scaling? (1’)  \n",
    "\n",
    "'''\n",
    "If given a matrix with homogeneous coordinates a, translation may be achieved by getting the dot product with \n",
    "a matrix b with translation parameters in the last column. For example in a 3D translation: \n",
    "[x1  y1  z1  1    [1  0  0  tx\n",
    " .   .   .   1  x  0  1  0  ty\n",
    " .   .   .   1     0  0  1  tz\n",
    " .   .   .   1]    0  0  0  1 ]\n",
    "\n",
    "The same logic is used for rotation in each axis, utilizing cos and sin functions of the desired angle θ\n",
    "\n",
    "[1     0     0     0\n",
    " 0     cosθ  sinθ  0      pitch (around the x axis)\n",
    " 0     -sinθ cosθ  0 \n",
    " 0     0     0     0]\n",
    " \n",
    "[cosθ  -sinθ 0     0\n",
    " 0     1     0     0       roll (around the y axis)\n",
    " sinθ  cosθ  0     0\n",
    " 0     0     0     1]\n",
    " \n",
    "[cosθ  -sinθ 0     0\n",
    " sinθ  cosθ  0     0       yaw (around the z axis)\n",
    " 0     0     1     0\n",
    " 0     0     0     0]\n",
    " \n",
    " \n",
    " For transforming a given scalar r', the transformation matrix would then insert parameters along a diagonal, \n",
    " replacing the 1's used in the translation example. \n",
    " \n",
    " [x1  y1  z1  1    [r' 0  0  0\n",
    " .   .   .    1  x  0  r' 0  0\n",
    " .   .   .    1     0  0  r' 0\n",
    " .   .   .    1]    0  0  0  1 ]\n",
    " \n",
    " \n",
    "'''"
   ]
  }
 ],
 "metadata": {
  "kernelspec": {
   "display_name": "Python 3 (ipykernel)",
   "language": "python",
   "name": "python3"
  },
  "language_info": {
   "codemirror_mode": {
    "name": "ipython",
    "version": 3
   },
   "file_extension": ".py",
   "mimetype": "text/x-python",
   "name": "python",
   "nbconvert_exporter": "python",
   "pygments_lexer": "ipython3",
   "version": "3.11.5"
  }
 },
 "nbformat": 4,
 "nbformat_minor": 5
}
