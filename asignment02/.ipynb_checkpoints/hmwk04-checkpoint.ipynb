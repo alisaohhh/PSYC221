{
 "cells": [
  {
   "cell_type": "code",
   "execution_count": null,
   "id": "f024bcc7-2e4f-4795-9c31-076abc4a5f32",
   "metadata": {
    "editable": true,
    "slideshow": {
     "slide_type": ""
    },
    "tags": []
   },
   "outputs": [],
   "source": [
    "# 4.\tThe  intensity distribution for the 3 brain classes generally overlaps, such as here:\n",
    "# Why do they, i.e., why do different classes have the same intensity values? Please outline \n",
    "# segmentation approaches that account for these distributions. (1.5’)\n",
    "\n",
    "'''\n",
    "Due to limits of imaging resolution, there are partial volume effects. If for example in a \n",
    "hypothetical box, there were edges of 2 distinct structures, the resultant average in that box would\n",
    "not capture those differences. If one item was high intensity, and the other in low intensity, \n",
    "the average represented in this box may be an intensity somewhere in the middle. In an intensity\n",
    "histogram, this would represent an area of overlap between two tissue types. \n",
    "\n",
    "One approach is determining a threshold where one may decide it is one tissue versus the other. \n",
    "\n",
    "One could attempt many different thresholds, then use the average. \n",
    "\n",
    "Lastly, one could use probability maps where instead a single threshold is selected, an array exists\n",
    "with probabilities of an intensity representing one structure versus another\n",
    "\n",
    "\n",
    "\n",
    "'''\n"
   ]
  }
 ],
 "metadata": {
  "kernelspec": {
   "display_name": "Python 3 (ipykernel)",
   "language": "python",
   "name": "python3"
  },
  "language_info": {
   "codemirror_mode": {
    "name": "ipython",
    "version": 3
   },
   "file_extension": ".py",
   "mimetype": "text/x-python",
   "name": "python",
   "nbconvert_exporter": "python",
   "pygments_lexer": "ipython3",
   "version": "3.11.5"
  }
 },
 "nbformat": 4,
 "nbformat_minor": 5
}
