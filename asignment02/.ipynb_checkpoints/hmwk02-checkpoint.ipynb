{
 "cells": [
  {
   "cell_type": "code",
   "execution_count": null,
   "id": "f50e6c58-7ba0-4707-8c33-685c410c4627",
   "metadata": {},
   "outputs": [],
   "source": [
    "# 2.\tReview the three key components that define a rigid registration and four for non-rigid \n",
    "# registration. For each component, the review should specify its purpose and an example.  (1’)\n",
    "\n",
    "'''\n",
    "\n",
    "Rigid transformation\n",
    "1 Tranformation - \n",
    "purpose\n",
    "example\n",
    "\n",
    "2 Similarity metric - \n",
    "purpose\n",
    "example \n",
    "\n",
    "3 Optimization - \n",
    "purpose\n",
    "example \n",
    "\n",
    "\n",
    "\n",
    "Non-rigid transformation\n",
    "1 Similarity metric\n",
    "purpose\n",
    "example \n",
    "\n",
    "2 Optimization\n",
    "purpose\n",
    "example \n",
    "\n",
    "3 Encoding of deformation field (e.g. B-Spline)\n",
    "purpose\n",
    "example \n",
    "\n",
    "4 Regularization (e.g., smooth / diffeomorphic/ symmetric)\n",
    "purpose\n",
    "example \n",
    "\n",
    "\n",
    "\n",
    "\n",
    "\n",
    "\n",
    "'''"
   ]
  }
 ],
 "metadata": {
  "kernelspec": {
   "display_name": "Python 3 (ipykernel)",
   "language": "python",
   "name": "python3"
  },
  "language_info": {
   "codemirror_mode": {
    "name": "ipython",
    "version": 3
   },
   "file_extension": ".py",
   "mimetype": "text/x-python",
   "name": "python",
   "nbconvert_exporter": "python",
   "pygments_lexer": "ipython3",
   "version": "3.11.5"
  }
 },
 "nbformat": 4,
 "nbformat_minor": 5
}
